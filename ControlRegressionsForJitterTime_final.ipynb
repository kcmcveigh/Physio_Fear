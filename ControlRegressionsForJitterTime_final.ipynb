{
 "cells": [
  {
   "cell_type": "code",
   "execution_count": null,
   "metadata": {},
   "outputs": [],
   "source": [
    "import pandas as pd\n",
    "import PrepDataHelper as helper\n",
    "import statsmodels.api as sm\n",
    "import statsmodels.formula.api as smf\n",
    "print(pd.__version__)\n",
    "print(sm.__version__)"
   ]
  },
  {
   "cell_type": "code",
   "execution_count": null,
   "metadata": {},
   "outputs": [],
   "source": [
    "physio_file = 'full_logfile_scr_3.csv'\n",
    "df = pd.read_csv(physio_file)\n",
    "df = df.drop(df.loc[df.rt_fear>df.rt_fear.mean()+3*df.rt_fear.std()].index)\n",
    "\n",
    "df['hp_change_video']=df['video_hp']-df['base_ECG']\n",
    "df['scr_change_video']=df['video_scr']-df['base_scr']\n",
    "df = helper.TakeAwayGroupsLessThenX(df, min_groups=12)\n",
    "# calculate jitter time\n",
    "\n",
    "df['PreTaskJitterDuration']= df.video_start - (df.word_end + df.rt_exp_fear+df.rt_current_anxiety)"
   ]
  },
  {
   "cell_type": "code",
   "execution_count": null,
   "metadata": {},
   "outputs": [],
   "source": [
    "standardized_fear_scr_hp  = df[['hp_change_video','participant_num','scr_change_video','resp_fear']].groupby('participant_num').transform(lambda x: (x - x.mean()) / x.std())\n",
    "standardized_df = pd.concat([standardized_fear_scr_hp, df[['participant_num','video_condition','PreTaskJitterDuration']]], axis=1)\n",
    "#only keep social (2) and spider conditions (3) \n",
    "standardized_df = standardized_df.loc[df.video_condition.isin([2,3])]\n",
    "full_df_no_heights = standardized_df"
   ]
  },
  {
   "cell_type": "markdown",
   "metadata": {},
   "source": [
    "# Frequentist Hierarchical"
   ]
  },
  {
   "cell_type": "code",
   "execution_count": null,
   "metadata": {},
   "outputs": [],
   "source": [
    "md = smf.mixedlm(\"PreTaskJitterDuration ~ hp_change_video\",\n",
    "                 full_df_no_heights, \n",
    "                 groups=full_df_no_heights['participant_num'], missing='drop')\n",
    "mdf = md.fit()\n",
    "mdf.summary()"
   ]
  },
  {
   "cell_type": "code",
   "execution_count": null,
   "metadata": {},
   "outputs": [],
   "source": [
    "md = smf.mixedlm(\"PreTaskJitterDuration ~ scr_change_video\",\n",
    "                 full_df_no_heights, \n",
    "                 groups=full_df_no_heights['participant_num'], missing='drop')\n",
    "mdf = md.fit()\n",
    "mdf.summary()"
   ]
  },
  {
   "cell_type": "code",
   "execution_count": null,
   "metadata": {},
   "outputs": [],
   "source": [
    "md = smf.mixedlm(\"PreTaskJitterDuration ~ resp_fear\",\n",
    "                 full_df_no_heights, \n",
    "                 groups=full_df_no_heights['participant_num'], missing='drop')\n",
    "mdf = md.fit()\n",
    "mdf.summary()"
   ]
  },
  {
   "cell_type": "code",
   "execution_count": null,
   "metadata": {},
   "outputs": [],
   "source": []
  }
 ],
 "metadata": {
  "kernelspec": {
   "display_name": "Python 3 (ipykernel)",
   "language": "python",
   "name": "python3"
  },
  "language_info": {
   "codemirror_mode": {
    "name": "ipython",
    "version": 3
   },
   "file_extension": ".py",
   "mimetype": "text/x-python",
   "name": "python",
   "nbconvert_exporter": "python",
   "pygments_lexer": "ipython3",
   "version": "3.9.7"
  }
 },
 "nbformat": 4,
 "nbformat_minor": 2
}
