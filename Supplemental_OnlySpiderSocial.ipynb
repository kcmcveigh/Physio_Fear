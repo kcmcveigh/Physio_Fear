{
 "cells": [
  {
   "cell_type": "code",
   "execution_count": null,
   "metadata": {},
   "outputs": [],
   "source": [
    "import pandas as pd\n",
    "import PrepDataHelper as helper\n",
    "import pymc3 as pm\n",
    "import pymc3_models as models"
   ]
  },
  {
   "cell_type": "code",
   "execution_count": null,
   "metadata": {},
   "outputs": [],
   "source": [
    "physio_file = 'full_logfile_scr_3.csv'\n",
    "df = pd.read_csv(physio_file)\n",
    "\n",
    "#keep only spider (3) and social conditions (2)\n",
    "df =df.loc[df.video_condition.isin([2,3])]\n",
    "df = df.drop(df.loc[df.rt_fear>df.rt_fear.mean()+3*df.rt_fear.std()].index)\n",
    "# recoded for negative valence is closer to one\n",
    "df['resp_valence']= 1- df['resp_valence']\n",
    "df['hp_change_video']=df['video_hp']-df['base_ECG']\n",
    "df['scr_change_video']=df['video_scr']-df['base_scr']\n",
    "df = helper.TakeAwayGroupsLessThenX(df, min_groups=12)"
   ]
  },
  {
   "cell_type": "code",
   "execution_count": null,
   "metadata": {},
   "outputs": [],
   "source": [
    "standardized_fear_scr_hp  = df[['hp_change_video','participant_num','scr_change_video','resp_fear']].groupby('participant_num').transform(lambda x: (x - x.mean()) / x.std())\n",
    "standardized_df = pd.concat([standardized_fear_scr_hp, df[['participant_num','video_condition']]], axis=1)\n",
    "standardized_df = standardized_df.loc[df.video_condition.isin([1,2,3])]\n",
    "full_df = standardized_df\n",
    "full_df['video_condition']=full_df['video_condition']-1"
   ]
  },
  {
   "cell_type": "markdown",
   "metadata": {},
   "source": [
    "## Individual Models"
   ]
  },
  {
   "cell_type": "code",
   "execution_count": null,
   "metadata": {},
   "outputs": [],
   "source": [
    "y = 'resp_fear'\n",
    "situation_subj_model_scr = models.RegressOnePredictor_SituationSubjectHierarchical(\n",
    "    full_df[['scr_change_video','resp_fear','participant_num','video_condition']],\n",
    "    y,\n",
    "    'scr_change_video')\n",
    "\n",
    "subj_hierarchical_model_scr = models.RegressOnePredictor_SubjectHierarchical(\n",
    "    full_df[['scr_change_video','resp_fear','participant_num']],\n",
    "    y,\n",
    "    'scr_change_video')\n",
    "\n",
    "flat_model_scr = models.RegressOnePredictor(\n",
    "    full_df[['scr_change_video','resp_fear','participant_num','video_condition']],\n",
    "    y,\n",
    "    'scr_change_video')\n",
    "\n",
    "situation_model_scr = models.RegressOnePredictor_Situation(\n",
    "    full_df[['scr_change_video','resp_fear','participant_num','video_condition']],\n",
    "    y,\n",
    "    'scr_change_video')\n",
    "\n",
    "participant_model_scr = models.RegressOnePredictor_Idiographic(\n",
    "    full_df[['scr_change_video','resp_fear','participant_num','video_condition']],\n",
    "    y,\n",
    "    'scr_change_video')\n",
    "\n",
    "independent_situation_participant_scr =models.RegressOnePredictor_SituationSubjectIndependent(\n",
    "    full_df[['scr_change_video','resp_fear','participant_num','video_condition']],\n",
    "    y,\n",
    "    'scr_change_video')\n",
    "\n",
    "meanmodel_scr = models.MeanModel(\n",
    "    full_df[['scr_change_video','resp_fear','participant_num','video_condition']],\n",
    "    y)"
   ]
  },
  {
   "cell_type": "code",
   "execution_count": null,
   "metadata": {
    "scrolled": true
   },
   "outputs": [],
   "source": [
    "n_samples = 10000\n",
    "flat_model_trace_scr = models.SampleModel(flat_model_scr, n_samples)\n",
    "situation_model_trace_scr = models.SampleModel(situation_model_scr, n_samples)\n",
    "subj_hierarchical_model_trace_scr = models.SampleModel(subj_hierarchical_model_scr, n_samples)\n",
    "situation_subj_model_trace_scr = models.SampleModel(situation_subj_model_scr, n_samples)\n",
    "participant_model_trace_scr = models.SampleModel(participant_model_scr, n_samples)\n",
    "participant_situation_model_trace_scr = models.SampleModel(independent_situation_participant_scr, n_samples)\n",
    "mean_model_trace_scr =  models.SampleModel(meanmodel_scr, n_samples)\n",
    "\n",
    "pm.plot_posterior(subj_hierarchical_model_trace_scr, var_names = ['mu_scr_change_video'])\n",
    "pm.plot_posterior(situation_subj_model_trace_scr, var_names = ['mu_scr_change_video'])\n",
    "\n",
    "scr_compare = pm.compare({\n",
    "        'flat_model_scr': flat_model_trace_scr,\n",
    "        'subj_hierarchical_model_scr':subj_hierarchical_model_trace_scr,\n",
    "        'situation_subj_model_scr':situation_subj_model_trace_scr,\n",
    "        'situation_model_scr': situation_model_trace_scr,\n",
    "        'participant_model_scr':participant_model_trace_scr,\n",
    "        'independent_situation_participant_scr':participant_situation_model_trace_scr,\n",
    "        'mean_model':mean_model_trace_scr\n",
    "    }, \n",
    "        ic='LOO',scale='negative_log')\n",
    "scr_compare.weight = helper.CalcAkaikeWeights(scr_compare.d_loo)\n",
    "scr_compare.to_csv('spidersocial_scr_loo.csv')"
   ]
  },
  {
   "cell_type": "code",
   "execution_count": null,
   "metadata": {},
   "outputs": [],
   "source": [
    "scr_compare.weight = helper.CalcAkaikeWeights(scr_compare.d_loo)\n",
    "scr_compare.to_csv('spidersocial_scr_loo.csv')"
   ]
  },
  {
   "cell_type": "code",
   "execution_count": null,
   "metadata": {},
   "outputs": [],
   "source": [
    "y = 'resp_fear'\n",
    "situation_subj_model_hp = models.RegressOnePredictor_SituationSubjectHierarchical(\n",
    "    full_df[['hp_change_video','resp_fear','participant_num','video_condition']],\n",
    "    y,\n",
    "    'hp_change_video')\n",
    "\n",
    "subject_hierarchical_model_hp = models.RegressOnePredictor_SubjectHierarchical(\n",
    "    full_df[['hp_change_video','resp_fear','participant_num']],\n",
    "    y,\n",
    "    'hp_change_video')\n",
    "\n",
    "flat_model_hp = models.RegressOnePredictor(\n",
    "    full_df[['hp_change_video','resp_fear','participant_num','video_condition']],\n",
    "    y,\n",
    "    'hp_change_video')\n",
    "\n",
    "situation_model_hp = models.RegressOnePredictor_Situation(\n",
    "    full_df[['hp_change_video','resp_fear','participant_num','video_condition']],\n",
    "    y,\n",
    "    'hp_change_video')\n",
    "\n",
    "participant_model_hp = models.RegressOnePredictor_Idiographic(\n",
    "    full_df[['hp_change_video','resp_fear','participant_num','video_condition']],\n",
    "    y,\n",
    "    'hp_change_video')\n",
    "\n",
    "independent_situation_participant_hp =models.RegressOnePredictor_SituationSubjectIndependent(\n",
    "    full_df[['hp_change_video','resp_fear','participant_num','video_condition']],\n",
    "    y,\n",
    "    'hp_change_video')\n",
    "\n",
    "meanmodel_hp = models.MeanModel(\n",
    "    full_df[['hp_change_video','resp_fear','participant_num','video_condition']],\n",
    "    y)\n",
    "\n"
   ]
  },
  {
   "cell_type": "code",
   "execution_count": null,
   "metadata": {
    "scrolled": false
   },
   "outputs": [],
   "source": [
    "n_samples = 1000\n",
    "participant_model_trace_hp = models.SampleModel(participant_model_hp, n_samples)\n",
    "participant_situation_model_trace_hp = models.SampleModel(independent_situation_participant_hp, n_samples)\n",
    "mean_model_trace_hp =  models.SampleModel(meanmodel_hp, n_samples)\n",
    "\n",
    "flat_model_trace_hp = models.SampleModel(flat_model_hp, n_samples)\n",
    "situation_model_trace_hp = models.SampleModel(situation_model_hp, n_samples)\n",
    "subject_hierarchical_model_trace_hp = models.SampleModel(subject_hierarchical_model_hp, n_samples)\n",
    "situation_subj_model_trace_hp = models.SampleModel(situation_subj_model_hp, n_samples)\n",
    "\n",
    "\n",
    "pm.plot_posterior(subject_hierarchical_model_trace_hp, var_names = ['mu_hp_change_video'])\n",
    "pm.plot_posterior(situation_subj_model_trace_hp, var_names =['mu_hp_change_video'])\n",
    "\n",
    "hp_compare = pm.compare({\n",
    "    'General': flat_model_trace_hp,\n",
    "    'Subject Hierarchical':subject_hierarchical_model_trace_hp,\n",
    "    'Situation Hierarchical':situation_subj_model_trace_hp,\n",
    "    'Situation':situation_model_trace_hp,\n",
    "    'participant_model_hp':participant_model_trace_hp,\n",
    "    'independent_situation_participant_hp':participant_situation_model_trace_hp,\n",
    "    'mean_model':mean_model_trace_hp\n",
    "}, ic='LOO',scale='Negative_log')\n",
    "\n",
    "hp_compare.weight = helper.CalcAkaikeWeights(hp_compare.d_loo)\n",
    "hp_compare.to_csv('spidersocial_hp_loo.csv')"
   ]
  },
  {
   "cell_type": "code",
   "execution_count": null,
   "metadata": {},
   "outputs": [],
   "source": []
  },
  {
   "cell_type": "code",
   "execution_count": null,
   "metadata": {},
   "outputs": [],
   "source": []
  }
 ],
 "metadata": {
  "kernelspec": {
   "display_name": "Python 3 (ipykernel)",
   "language": "python",
   "name": "python3"
  },
  "language_info": {
   "codemirror_mode": {
    "name": "ipython",
    "version": 3
   },
   "file_extension": ".py",
   "mimetype": "text/x-python",
   "name": "python",
   "nbconvert_exporter": "python",
   "pygments_lexer": "ipython3",
   "version": "3.9.7"
  }
 },
 "nbformat": 4,
 "nbformat_minor": 2
}
