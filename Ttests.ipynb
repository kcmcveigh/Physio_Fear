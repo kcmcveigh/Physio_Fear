{
 "cells": [
  {
   "cell_type": "code",
   "execution_count": null,
   "metadata": {},
   "outputs": [],
   "source": [
    "import pandas as pd\n",
    "from scipy import stats\n",
    "import PrepDataHelper as helper"
   ]
  },
  {
   "cell_type": "code",
   "execution_count": null,
   "metadata": {},
   "outputs": [],
   "source": [
    "physio_file='full_logfile_scr_3.csv'\n",
    "df = pd.read_csv(physio_file)\n",
    "df = df.drop(df.loc[df.rt_fear>df.rt_fear.mean()+3*df.rt_fear.std()].index)\n",
    "df['hp_change_video']=df['video_hp']-df['base_ECG']\n",
    "df['scr_change_video']=df['video_scr']-df['base_scr']\n",
    "df = helper.TakeAwayGroupsLessThenX(df, min_groups=12)"
   ]
  },
  {
   "cell_type": "code",
   "execution_count": null,
   "metadata": {},
   "outputs": [],
   "source": [
    "df_of_interest = df[['video_condition','participant_num','hp_change_video', 'scr_change_video']]\n",
    "for cond in [1,2,3]:#heights,social,spider\n",
    "    cond_df= df.loc[df.video_condition==cond]\n",
    "    cond_means = cond_df.groupby('participant_num').mean()\n",
    "    scr_means = cond_means['scr_change_video'].dropna()\n",
    "    scr_mean = scr_means.mean()\n",
    "    scr_std = scr_means.std()\n",
    "    t_result = stats.ttest_1samp(scr_means,popmean=0)\n",
    "    print('scr', scr_mean, scr_std, t_result)\n",
    "    \n",
    "    hp_means = cond_means['hp_change_video'].dropna()\n",
    "    hp_mean = hp_means.mean()\n",
    "    hp_std = hp_means.std()\n",
    "    t_result = stats.ttest_1samp(hp_means,popmean=0)\n",
    "    print('hp', hp_mean, hp_std, t_result)"
   ]
  },
  {
   "cell_type": "code",
   "execution_count": null,
   "metadata": {},
   "outputs": [],
   "source": []
  }
 ],
 "metadata": {
  "kernelspec": {
   "display_name": "Python 3 (ipykernel)",
   "language": "python",
   "name": "python3"
  },
  "language_info": {
   "codemirror_mode": {
    "name": "ipython",
    "version": 3
   },
   "file_extension": ".py",
   "mimetype": "text/x-python",
   "name": "python",
   "nbconvert_exporter": "python",
   "pygments_lexer": "ipython3",
   "version": "3.9.7"
  }
 },
 "nbformat": 4,
 "nbformat_minor": 2
}
